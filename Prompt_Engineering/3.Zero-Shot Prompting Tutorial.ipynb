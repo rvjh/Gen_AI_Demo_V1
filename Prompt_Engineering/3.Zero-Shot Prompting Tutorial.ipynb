{
 "cells": [
  {
   "cell_type": "markdown",
   "metadata": {},
   "source": [
    "#### Zero-Shot Prompting Tutorial\n",
    "\n",
    "Zero-shot prompting is crucial in modern AI applications as it enables language models to generalize to new tasks without the need for task-specific training data or fine-tuning. This capability significantly enhances the flexibility and applicability of AI systems, allowing them to adapt to a wide range of scenarios and user needs with minimal setup.\n",
    "\n",
    "Key Components\n",
    "\n",
    "1. Understanding Zero-Shot Learning: An introduction to the concept and its importance in AI.\n",
    "2. Prompt Design Principles: Techniques for crafting effective zero-shot prompts.\n",
    "3. Task Framing: Methods to frame various tasks for zero-shot performance.\n",
    "4. LangChain Implementation: Leveraging LangChain for structured zero-shot prompting."
   ]
  },
  {
   "cell_type": "markdown",
   "metadata": {},
   "source": [
    "Method Details\n",
    "\n",
    "The tutorial will cover several methods for implementing zero-shot prompting:\n",
    "\n",
    "Direct Task Specification: Crafting prompts that clearly define the task without examples.\n",
    "\n",
    "Role-Based Prompting: Assigning specific roles to the AI to guide its responses.\n",
    "\n",
    "Format Specification: Providing output format guidelines in the prompt.\n",
    "\n",
    "Multi-step Reasoning: Breaking down complex tasks into simpler zero-shot steps.\n",
    "\n",
    "Comparative Analysis: Evaluating different zero-shot prompt structures for the same task."
   ]
  },
  {
   "cell_type": "code",
   "execution_count": 1,
   "metadata": {},
   "outputs": [
    {
     "data": {
      "text/plain": [
       "ChatGroq(client=<groq.resources.chat.completions.Completions object at 0x7f034dcdbc10>, async_client=<groq.resources.chat.completions.AsyncCompletions object at 0x7f034dcdaf50>, model_name='gemma-7b-it', groq_api_key=SecretStr('**********'))"
      ]
     },
     "execution_count": 1,
     "metadata": {},
     "output_type": "execute_result"
    }
   ],
   "source": [
    "from langchain_groq import ChatGroq\n",
    "from langchain.prompts import PromptTemplate\n",
    "from langchain.chains import ConversationChain\n",
    "from langchain.memory import ConversationBufferMemory\n",
    "\n",
    "groq_api_key = \"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\"\n",
    "\n",
    "llm = ChatGroq(\n",
    "     groq_api_key = groq_api_key,\n",
    "     model = \"gemma-7b-it\"\n",
    ")\n",
    "\n",
    "llm"
   ]
  },
  {
   "cell_type": "code",
   "execution_count": 2,
   "metadata": {},
   "outputs": [],
   "source": [
    "def create_chain(prompt_template):\n",
    "    \"\"\"\n",
    "    Create a LangChain chain with the given prompt template.\n",
    "    \n",
    "    Args:\n",
    "        prompt_template (str): The prompt template string.\n",
    "    \n",
    "    Returns:\n",
    "        LLMChain: A LangChain chain object.\n",
    "    \"\"\"\n",
    "    prompt = PromptTemplate.from_template(prompt_template)\n",
    "    return prompt | llm"
   ]
  },
  {
   "cell_type": "markdown",
   "metadata": {},
   "source": [
    "1. Direct Task Specification\n",
    "\n",
    "In this section, we'll explore how to craft prompts that clearly define the task without providing examples. This is the essence of zero-shot prompting."
   ]
  },
  {
   "cell_type": "code",
   "execution_count": 3,
   "metadata": {},
   "outputs": [
    {
     "name": "stdout",
     "output_type": "stream",
     "text": [
      "Text: I absolutely loved the movie! The acting was superb.\n",
      "Sentiment: Positive\n",
      "Text: The weather today is quite typical for this time of year.\n",
      "Sentiment: Neutral\n",
      "Text: I'm disappointed with the service I received at the restaurant.\n",
      "Sentiment: Negative\n"
     ]
    }
   ],
   "source": [
    "direct_task_prompt = \"\"\"Classify the sentiment of the following text as positive, negative, or neutral.\n",
    "Do not explain your reasoning, just provide the classification.\n",
    "\n",
    "Text: {text}\n",
    "\n",
    "Sentiment:\"\"\"\n",
    "\n",
    "direct_task_chain = create_chain(direct_task_prompt)\n",
    "\n",
    "# Test the direct task specification\n",
    "texts = [\n",
    "    \"I absolutely loved the movie! The acting was superb.\",\n",
    "    \"The weather today is quite typical for this time of year.\",\n",
    "    \"I'm disappointed with the service I received at the restaurant.\"\n",
    "]\n",
    "\n",
    "for text in texts:\n",
    "    result = direct_task_chain.invoke({\"text\": text}).content\n",
    "    print(f\"Text: {text}\")\n",
    "    print(f\"Sentiment: {result}\")"
   ]
  },
  {
   "cell_type": "markdown",
   "metadata": {},
   "source": [
    "2. Format Specification\n",
    "\n",
    "Providing output format guidelines in the prompt can help structure the AI's response in a zero-shot scenario."
   ]
  },
  {
   "cell_type": "code",
   "execution_count": 4,
   "metadata": {},
   "outputs": [
    {
     "name": "stdout",
     "output_type": "stream",
     "text": [
      "## **New Hope Emerges: Earth-Like Exoplanet Discovered in habitable zone**\n",
      "\n",
      "**Lead:** Astronomers have announced the groundbreaking discovery of Kepler-186f, a planet in the habitable zone of a sun-like star, orbiting a distant galaxy. This remarkable exoplanet potentially harbors conditions conducive to life as we know it.\n",
      "\n",
      "**Body:** This newfound planet, located 1,400 light-years away, boasts a size and mass remarkably close to Earth. Its orbit lies within the habitable zone, the range of distances from a star where conditions are favorable for liquid water to exist on the surface. This crucial factor, coupled with its rocky composition and moderate surface temperature, fuel speculation that Kepler-186f could harbor life.\n",
      "\n",
      "**Conclusion:** This groundbreaking discovery reignites the debate on the prevalence of life beyond our solar system, offering hope that we might soon find concrete evidence of other intelligent life in the cosmos.\n"
     ]
    }
   ],
   "source": [
    "format_spec_prompt = \"\"\"Generate a short news article about {topic}. \n",
    "Structure your response in the following format:\n",
    "\n",
    "Headline: [A catchy headline for the article]\n",
    "\n",
    "Lead: [A brief introductory paragraph summarizing the key points]\n",
    "\n",
    "Body: [2-3 short paragraphs providing more details]\n",
    "\n",
    "Conclusion: [A concluding sentence or call to action]\"\"\"\n",
    "\n",
    "format_spec_chain = create_chain(format_spec_prompt)\n",
    "\n",
    "# Test the format specification prompting\n",
    "topic = \"The discovery of a new earth-like exoplanet\"\n",
    "result = format_spec_chain.invoke({\"topic\": topic}).content\n",
    "print(result)"
   ]
  },
  {
   "cell_type": "markdown",
   "metadata": {},
   "source": [
    "3. Multi-step Reasoning\n",
    "\n",
    "For complex tasks, we can break them down into simpler zero-shot steps. This approach can improve the overall performance of the model."
   ]
  },
  {
   "cell_type": "code",
   "execution_count": 5,
   "metadata": {},
   "outputs": [
    {
     "name": "stdout",
     "output_type": "stream",
     "text": [
      "## Analysis of the Text:\n",
      "\n",
      "**1. Main Argument:**\n",
      "\n",
      "The text argues that while electric vehicles are often presented as a solution to climate change, their environmental impact is complex and requires careful consideration.\n",
      "\n",
      "**2. Supporting Evidence:**\n",
      "\n",
      "- Production of EV batteries involves significant mining, leading to habitat destruction and water pollution.\n",
      "- If charged using fossil fuels, EVs may not significantly reduce carbon footprint.\n",
      "- As renewable energy and battery technology improve, EVs could eventually become a viable climate change solution.\n",
      "\n",
      "\n",
      "**3. Potential Counterarguments:**\n",
      "\n",
      "- **Focus on lifecycle analysis:** The text briefly mentions the need for a lifecycle analysis to assess the complete environmental impact of EVs, including potential benefits in areas like air quality and energy security.\n",
      "- **Technological advancement:** The text acknowledges the potential for future innovations in battery technology and renewable energy to address the environmental concerns associated with EVs.\n",
      "- **Comparative analysis:** The text lacks a comparison with other potential climate mitigation strategies, such as renewable energy deployment or carbon capture and storage.\n",
      "\n",
      "**Additional Considerations:**\n",
      "\n",
      "- The text presents a nuanced perspective, acknowledging both the potential benefits and limitations of electric vehicles.\n",
      "- The argument is supported by specific examples and reasoning, but could benefit from more concrete data or statistics.\n",
      "- The text lacks a clear conclusion, leaving the reader to ponder the overall impact of electric vehicles on climate change.\n"
     ]
    }
   ],
   "source": [
    "multi_step_prompt = \"\"\"Analyze the following text for its main argument, supporting evidence, and potential counterarguments. \n",
    "Provide your analysis in the following steps:\n",
    "\n",
    "1. Main Argument: Identify and state the primary claim or thesis.\n",
    "2. Supporting Evidence: List the key points or evidence used to support the main argument.\n",
    "3. Potential Counterarguments: Suggest possible objections or alternative viewpoints to the main argument.\n",
    "\n",
    "Text: {text}\n",
    "\n",
    "Analysis:\"\"\"\n",
    "\n",
    "multi_step_chain = create_chain(multi_step_prompt)\n",
    "\n",
    "# Test the multi-step reasoning approach\n",
    "text = \"\"\"While electric vehicles are often touted as a solution to climate change, their environmental impact is not as straightforward as it seems. \n",
    "The production of batteries for electric cars requires significant mining operations, which can lead to habitat destruction and water pollution. \n",
    "Moreover, if the electricity used to charge these vehicles comes from fossil fuel sources, the overall carbon footprint may not be significantly reduced. \n",
    "However, as renewable energy sources become more prevalent and battery technology improves, electric vehicles could indeed play a crucial role in combating climate change.\"\"\"\n",
    "\n",
    "result = multi_step_chain.invoke({\"text\": text}).content\n",
    "print(result)"
   ]
  },
  {
   "cell_type": "markdown",
   "metadata": {},
   "source": [
    "4. Comparative Analysis\n",
    "\n",
    "Let's compare different zero-shot prompt structures for the same task to evaluate their effectiveness."
   ]
  },
  {
   "cell_type": "code",
   "execution_count": 6,
   "metadata": {},
   "outputs": [
    {
     "name": "stdout",
     "output_type": "stream",
     "text": [
      "Task: Explain conciesly the concept of blockchain technology\n",
      "\n",
      "Basic Prompt Result:\n",
      "**Blockchain Technology:**\n",
      "\n",
      "- A decentralized and distributed digital ledger that records transactions and tracks assets in a secure and transparent manner.\n",
      "- Consists of blocks linked together in chronological order, forming an immutable chain.\n",
      "- Transactions are validated by a network of computers (nodes) through consensus mechanism, ensuring trust and security.\n",
      "\n",
      "\n",
      "**Key Features:**\n",
      "\n",
      "- **Decentralization:** No single entity controls the blockchain.\n",
      "- **Transparency:** Transactions are publicly viewable on the blockchain.\n",
      "- **Security:** Advanced cryptography protects the blockchain from tampering.\n",
      "- **Immutability:** Once data is recorded on the blockchain, it cannot be altered or deleted.\n",
      "\n",
      "\n",
      "**How it Works:**\n",
      "\n",
      "1. Transactions are initiated on the blockchain network.\n",
      "2. Nodes in the network verify the transaction and add it to a block.\n",
      "3. The block is then added to the blockchain chain.\n",
      "4. The consensus mechanism ensures that all nodes have a consistent and updated copy of the blockchain.\n",
      "\n",
      "\n",
      "**Applications:**\n",
      "\n",
      "- **Cryptocurrencies:** Bitcoin, Ethereum, etc.\n",
      "- **Supply Chain Management:** Tracking goods from origin to destination.\n",
      "- **Voting Systems:** Secure and transparent voting records.\n",
      "- **Smart Contracts:** Automated agreements that enforce contractual terms.\n",
      "\n",
      "--------------------------------------------------\n",
      "\n",
      "Structured Prompt Result:\n",
      "## Blockchain Technology Explained:\n",
      "\n",
      "**1. Definition:**\n",
      "\n",
      "- A blockchain is a decentralized, digital ledger of transactions and assets.\n",
      "- It operates on a peer-to-peer network without any central authority.\n",
      "- Transactions are recorded in \"blocks\" that are linked together in chronological order, forming an immutable chain.\n",
      "\n",
      "\n",
      "**2. Key Features:**\n",
      "\n",
      "- **Decentralization:** No single entity controls the blockchain, fostering transparency and security.\n",
      "- **Transparency:** Transactions are publicly recorded on the blockchain, accessible to anyone.\n",
      "- **Security:** Advanced cryptography protects the blockchain from tampering and fraud.\n",
      "- **Immutability:** Once data is recorded on the blockchain, it is virtually impossible to alter or erase it.\n",
      "\n",
      "\n",
      "**3. Real-World Applications:**\n",
      "\n",
      "- **Cryptocurrencies:** Bitcoin, Ethereum, and other digital currencies use blockchain technology for secure transactions.\n",
      "- **Financial services:** Blockchain offers solutions for cross-border payments, trade finance, and asset management.\n",
      "- **Supply chain management:** Tracking goods from origin to destination, enhancing transparency and efficiency.\n",
      "- **Voting systems:** Ensuring secure and transparent voting processes.\n",
      "\n",
      "\n",
      "**4. Potential Impact on Industries:**\n",
      "\n",
      "- **Increased efficiency and transparency:** Automation of processes, streamlining workflows.\n",
      "- **Enhanced security and trust:** Secure data storage and transactions, reducing fraud.\n",
      "- **Reduced costs:** Eliminating middlemen and automating processes reduces operational costs.\n",
      "- **New opportunities:** Enabling innovative applications and business models across industries.\n",
      "\n",
      "--------------------------------------------------\n",
      "\n"
     ]
    }
   ],
   "source": [
    "def compare_prompts(task, prompt_templates):\n",
    "    \"\"\"\n",
    "    Compare different prompt templates for the same task.\n",
    "    \n",
    "    Args:\n",
    "        task (str): The task description or input.\n",
    "        prompt_templates (dict): A dictionary of prompt templates with their names as keys.\n",
    "    \"\"\"\n",
    "    print(f\"Task: {task}\\n\")\n",
    "    for name, template in prompt_templates.items():\n",
    "        chain = create_chain(template)\n",
    "        result = chain.invoke({\"task\": task}).content\n",
    "        print(f\"{name} Prompt Result:\")\n",
    "        print(result)\n",
    "        print(\"\\n\" + \"-\"*50 + \"\\n\")\n",
    "\n",
    "task = \"Explain conciesly the concept of blockchain technology\"\n",
    "\n",
    "prompt_templates = {\n",
    "    \"Basic\": \"Explain {task}.\",\n",
    "    \"Structured\": \"\"\"Explain {task} by addressing the following points:\n",
    "1. Definition\n",
    "2. Key features\n",
    "3. Real-world applications\n",
    "4. Potential impact on industries\"\"\"\n",
    "}\n",
    "\n",
    "compare_prompts(task, prompt_templates)"
   ]
  },
  {
   "cell_type": "code",
   "execution_count": null,
   "metadata": {},
   "outputs": [],
   "source": []
  }
 ],
 "metadata": {
  "kernelspec": {
   "display_name": "AI_inv",
   "language": "python",
   "name": "python3"
  },
  "language_info": {
   "codemirror_mode": {
    "name": "ipython",
    "version": 3
   },
   "file_extension": ".py",
   "mimetype": "text/x-python",
   "name": "python",
   "nbconvert_exporter": "python",
   "pygments_lexer": "ipython3",
   "version": "3.10.13"
  }
 },
 "nbformat": 4,
 "nbformat_minor": 2
}
