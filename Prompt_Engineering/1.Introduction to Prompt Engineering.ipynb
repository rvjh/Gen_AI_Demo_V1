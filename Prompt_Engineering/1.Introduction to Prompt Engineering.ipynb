{
 "cells": [
  {
   "cell_type": "markdown",
   "metadata": {},
   "source": [
    "### Introduction to Prompt Engineering"
   ]
  },
  {
   "cell_type": "markdown",
   "metadata": {},
   "source": [
    "The tutorial covers several key components of prompt engineering:\n",
    "\n",
    "1. Basic Concepts: An introduction to what prompt engineering is and why it's important.\n",
    "2. Prompt Structures: Exploration of different ways to structure prompts for various outcomes.\n",
    "3. Importance of Prompt Engineering: Discussion on how prompt engineering impacts AI model performance.\n",
    "4. Role in AI and Language Models: Examination of how prompt engineering fits into the broader context of AI applications.\n",
    "5. Practical Examples: Hands-on demonstrations of prompt engineering techniques."
   ]
  },
  {
   "cell_type": "markdown",
   "metadata": {},
   "source": [
    "Method Details\n",
    "The tutorial employs a mix of theoretical explanations and practical demonstrations to convey the concepts of prompt engineering:\n",
    "\n",
    "1. Setup and Environment: The lesson begins by setting up the necessary tools, including the OpenAI API and LangChain library. This provides a practical environment for experimenting with prompts.\n",
    "\n",
    "2. Basic Concept Exploration: Through simple examples, learners are introduced to how different prompts can yield varying responses from the AI model. This illustrates the fundamental principle of prompt engineering.\n",
    "\n",
    "3. Structured Prompts: The tutorial demonstrates how to create more complex, structured prompts using LangChain's PromptTemplate. This shows how to create reusable prompt structures with variable inputs.\n",
    "\n",
    "4. Comparative Analysis: By presenting multiple prompts on the same topic, the lesson highlights how subtle changes in prompt structure and wording can significantly affect the AI's output.\n",
    "\n",
    "5. Problem-Solving Application: The tutorial explores how prompt engineering can be applied to break down complex problems, guiding the AI through a step-by-step reasoning process.\n",
    "\n",
    "6. Limitation Mitigation: Examples are provided to show how careful prompt design can help overcome some limitations of AI models, such as improving factual accuracy."
   ]
  },
  {
   "cell_type": "markdown",
   "metadata": {},
   "source": [
    "##### Setup"
   ]
  },
  {
   "cell_type": "markdown",
   "metadata": {},
   "source": [
    "##### Here we will be using open Source models\n",
    "\n",
    "we will use groq"
   ]
  },
  {
   "cell_type": "code",
   "execution_count": 8,
   "metadata": {},
   "outputs": [
    {
     "data": {
      "text/plain": [
       "ChatGroq(client=<groq.resources.chat.completions.Completions object at 0x7fd917f550f0>, async_client=<groq.resources.chat.completions.AsyncCompletions object at 0x7fd917f55900>, model_name='gemma-7b-it', groq_api_key=SecretStr('**********'))"
      ]
     },
     "execution_count": 8,
     "metadata": {},
     "output_type": "execute_result"
    }
   ],
   "source": [
    "from langchain_groq import ChatGroq\n",
    "from langchain.prompts import PromptTemplate\n",
    "\n",
    "groq_api_key = \"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\"\n",
    "\n",
    "llm = ChatGroq(\n",
    "     groq_api_key = groq_api_key,\n",
    "     model = \"gemma-7b-it\"\n",
    ")\n",
    "\n",
    "llm"
   ]
  },
  {
   "cell_type": "markdown",
   "metadata": {},
   "source": [
    "###### Basic Concepts and Importance"
   ]
  },
  {
   "cell_type": "code",
   "execution_count": 9,
   "metadata": {},
   "outputs": [
    {
     "name": "stdout",
     "output_type": "stream",
     "text": [
      "Prompt engineering is the art of crafting precise and effective prompts to elicit desired responses from language models.\n"
     ]
    }
   ],
   "source": [
    "basic_prompt = \"Explain the concept of prompt engineering in one sentence.\"\n",
    "print(llm.invoke(basic_prompt).content)"
   ]
  },
  {
   "cell_type": "code",
   "execution_count": 10,
   "metadata": {},
   "outputs": [
    {
     "name": "stdout",
     "output_type": "stream",
     "text": [
      "## Prompt Engineering\n",
      "\n",
      "Prompt engineering is the art and science of crafting effective prompts to elicit desired responses from language models. It involves understanding the model's limitations and capabilities, understanding the desired outcome, and meticulously crafting the language of the prompt to guide the model towards that goal.\n",
      "\n",
      "\n",
      "## Importance\n",
      "\n",
      "Prompt engineering is crucial for:\n",
      "\n",
      "* **Extracting accurate and valuable information** from vast amounts of data.\n",
      "* **Automating tasks previously done by humans**, such as content creation, customer service, and market research.\n",
      "* **Improving the efficiency and effectiveness of AI-powered applications** across industries.\n",
      "\n",
      "\n",
      "## Key Benefits\n",
      "\n",
      "1. **Improved Accuracy:** Carefully crafted prompts can guide the model towards relevant concepts and factual information, leading to more accurate responses.\n",
      "2. **Enhanced Creativity:** By suggesting specific angles or framing the prompt appropriately, users can stimulate the model's creativity and generate more diverse outputs.\n",
      "3. **Increased Control:** Precise prompts allow users to exert greater control over the model's behavior, ensuring that it generates responses that align with their specific needs and intentions.\n"
     ]
    }
   ],
   "source": [
    "## Now, let's see how a more structured prompt can yield a more detailed response:\n",
    "\n",
    "structured_prompt = PromptTemplate(\n",
    "    input_variables=[\"topic\"],\n",
    "    template=\"Provide a definition of {topic}, explain its importance, and list three key benefits.\"\n",
    ")\n",
    "\n",
    "chain = structured_prompt | llm # Combine the prompt template with the language model\n",
    "input_variables = {\"topic\": \"prompt engineering\"} # Define the input variables\n",
    "output = chain.invoke(input_variables).content # Invoke the chain with the input variables\n",
    "print(output)"
   ]
  },
  {
   "cell_type": "code",
   "execution_count": 11,
   "metadata": {},
   "outputs": [
    {
     "name": "stdout",
     "output_type": "stream",
     "text": [
      "\n",
      "Prompt 1:\n",
      "List 3 applications of AI in healthcare.\n",
      "\n",
      "Response:\n",
      "1. **Automated disease diagnosis and screening:** AI algorithms can analyze medical images, lab results, and patient histories to detect diseases at early stages.\n",
      "\n",
      "\n",
      "2. **Predictive analytics for personalized healthcare:** AI can analyze patient data to predict future health risks and recommend preventive measures.\n",
      "\n",
      "\n",
      "3. **Virtual assistants for patient engagement:** AI-powered chatbots and virtual assistants can provide personalized healthcare guidance and support to patients.\n",
      "--------------------------------------------------\n",
      "\n",
      "Prompt 2:\n",
      "Explain how AI is revolutionizing healthcare, with 3 specific examples.\n",
      "\n",
      "Response:\n",
      "**1. Disease Diagnosis and Treatment:**\n",
      "\n",
      "* AI algorithms can analyze medical images (X-rays, CT scans) with unprecedented accuracy, aiding in early disease detection and diagnosis.\n",
      "* AI-powered chatbots can provide personalized health guidance, symptom tracking, and medication adherence reminders.\n",
      "* AI algorithms can predict disease outbreaks by analyzing patterns in healthcare data.\n",
      "\n",
      "\n",
      "**2. Personalized Healthcare:**\n",
      "\n",
      "* AI algorithms can analyze patient data to create personalized treatment plans, considering individual factors such as genetic makeup, lifestyle, and medical history.\n",
      "* AI-powered robots can assist with tasks such as medication administration, wound care, and patient monitoring, enabling more efficient and personalized care.\n",
      "\n",
      "\n",
      "**3. Drug Development and Research:**\n",
      "\n",
      "* AI algorithms can analyze vast amounts of scientific literature and clinical trial data to identify potential new drug targets and optimize drug development processes.\n",
      "* AI-powered robots can screen potential new drugs and compounds, accelerating the discovery of effective treatments.\n",
      "--------------------------------------------------\n",
      "\n",
      "Prompt 3:\n",
      "You are a doctor. Describe 3 ways AI has improved your daily work in the hospital.\n",
      "\n",
      "Response:\n",
      "**1. Enhanced Diagnostic Accuracy:**\n",
      "\n",
      "* AI algorithms can analyze medical images like X-rays, mammograms, and CT scans with remarkable accuracy, identifying subtle abnormalities and assisting in early disease detection.\n",
      "* This improved accuracy allows for timely diagnosis and appropriate treatment interventions, leading to better patient outcomes.\n",
      "\n",
      "\n",
      "**2. Automated Clinical Documentation:**\n",
      "\n",
      "* AI-powered systems can automatically transcribe medical notes, generate progress reports, and summarize patient medical records.\n",
      "* This automation saves physicians countless hours in documentation tasks, allowing them to focus on patient care and clinical decision-making.\n",
      "\n",
      "\n",
      "**3. Personalized Patient Monitoring:**\n",
      "\n",
      "* AI algorithms can track and analyze vital signs, medication adherence, and other clinical data in real-time.\n",
      "* This continuous monitoring allows for early detection of complications and personalized interventions to optimize patient care and prevent hospital readmission rates.\n",
      "--------------------------------------------------\n"
     ]
    }
   ],
   "source": [
    "prompts = [\n",
    "    \"List 3 applications of AI in healthcare.\",\n",
    "    \"Explain how AI is revolutionizing healthcare, with 3 specific examples.\",\n",
    "    \"You are a doctor. Describe 3 ways AI has improved your daily work in the hospital.\"\n",
    "]\n",
    "\n",
    "for i, prompt in enumerate(prompts, 1):\n",
    "    print(f\"\\nPrompt {i}:\")\n",
    "    print(prompt)\n",
    "    print(\"\\nResponse:\")\n",
    "    print(llm.invoke(prompt).content)\n",
    "    print(\"-\" * 50)"
   ]
  },
  {
   "cell_type": "markdown",
   "metadata": {},
   "source": [
    "Role in AI and Language Models\n",
    "\n",
    "Prompt engineering plays a crucial role in enhancing the performance and applicability of AI and language models. It helps in:\n",
    "\n",
    "1. Tailoring model outputs to specific needs\n",
    "2. Improving the accuracy and relevance of responses\n",
    "3. Enabling complex task completion\n",
    "4. Reducing biases and improving fairness in AI outputs"
   ]
  },
  {
   "cell_type": "code",
   "execution_count": 13,
   "metadata": {},
   "outputs": [
    {
     "name": "stdout",
     "output_type": "stream",
     "text": [
      "**Incorrect.**\n",
      "\n",
      "**Correct information:** The capital of France is **Paris**, not London.\n"
     ]
    }
   ],
   "source": [
    "fact_check_prompt = PromptTemplate(\n",
    "    input_variables=[\"statement\"],\n",
    "    template=\"\"\"Evaluate the following statement for factual accuracy. If it's incorrect, provide the correct information:\n",
    "    Statement: {statement}\n",
    "    Evaluation:\"\"\"\n",
    ")\n",
    "\n",
    "chain = fact_check_prompt | llm\n",
    "print(chain.invoke(\"The capital of France is London.\").content)"
   ]
  },
  {
   "cell_type": "markdown",
   "metadata": {},
   "source": [
    "##### Improving Complex Problem-Solving"
   ]
  },
  {
   "cell_type": "code",
   "execution_count": 14,
   "metadata": {},
   "outputs": [
    {
     "name": "stdout",
     "output_type": "stream",
     "text": [
      "**Step 1: Identify the given information**\n",
      "\n",
      "- Principal amount (P) = $1000\n",
      "- Time period (t) = 5 years\n",
      "- Annual interest rate (r) = 5%\n",
      "\n",
      "**Step 2: Formula for Compound Interest**\n",
      "\n",
      "The formula for compound interest is:\n",
      "\n",
      "$$A = P(1 + r/n)^(nt)$$\n",
      "\n",
      "Where:\n",
      "- A = Amount after t years\n",
      "- P = Principal amount\n",
      "- r = Annual interest rate\n",
      "- n = Number of times interest is compounded per year\n",
      "- t = Time period\n",
      "\n",
      "**Step 3: Substitute the given values into the formula**\n",
      "\n",
      "$$A = 1000(1 + 0.05/1)^(1*5)$$\n",
      "\n",
      "$$A = 1000(1.05)^5$$\n",
      "\n",
      "**Step 4: Calculate the compound interest**\n",
      "\n",
      "$$A = $1326.88$$\n",
      "\n",
      "**Therefore, the compound interest on $1000 invested for 5 years at an annual rate of 5%, compounded annually, is approximately $326.88.**\n"
     ]
    }
   ],
   "source": [
    "problem_solving_prompt = PromptTemplate(\n",
    "    input_variables=[\"problem\"],\n",
    "    template=\"\"\"Solve the following problem step by step:\n",
    "    Problem: {problem}\n",
    "    Solution:\n",
    "    1)\"\"\"\n",
    ")\n",
    "\n",
    "chain = problem_solving_prompt | llm\n",
    "print(chain.invoke(\"Calculate the compound interest on $1000 invested for 5 years at an annual rate of 5%, compounded annually.\").content)"
   ]
  },
  {
   "cell_type": "code",
   "execution_count": 16,
   "metadata": {},
   "outputs": [
    {
     "name": "stdout",
     "output_type": "stream",
     "text": [
      "**Step 1: Recall the formula for combination:**\n",
      "\n",
      "$$C(n,r) = \\frac{n!}{r!(n-r)!}$$\n",
      "\n",
      "where:\n",
      "\n",
      "* n is the total number of items\n",
      "* r is the number of items to be chosen\n",
      "\n",
      "\n",
      "**Step 2: Identify the values of n and r:**\n",
      "\n",
      "* n = 5 (there are 5 items to choose from)\n",
      "* r = 3 (we are choosing 3 items)\n",
      "\n",
      "**Step 3: Substitute the values into the formula:**\n",
      "\n",
      "$$C(5,3) = \\frac{5!}{3!(5-3)!} = \\frac{5!}{3!2!} = \\frac{5 \\times 4 \\times 3!}{3! \\times 2} = 10$$\n",
      "\n",
      "**Therefore, the combination of 5C3 is 10.**\n"
     ]
    }
   ],
   "source": [
    "problem_solving_prompt = PromptTemplate(\n",
    "    input_variables=[\"problem\"],\n",
    "    template=\"\"\"Solve the following problem step by step:\n",
    "    Problem: {problem}\n",
    "    Solution:\n",
    "    1)\"\"\"\n",
    ")\n",
    "\n",
    "chain = problem_solving_prompt | llm\n",
    "print(chain.invoke(\"Calculate combination of 5C3.\").content)"
   ]
  },
  {
   "cell_type": "code",
   "execution_count": null,
   "metadata": {},
   "outputs": [],
   "source": []
  }
 ],
 "metadata": {
  "kernelspec": {
   "display_name": "AI_inv",
   "language": "python",
   "name": "python3"
  },
  "language_info": {
   "codemirror_mode": {
    "name": "ipython",
    "version": 3
   },
   "file_extension": ".py",
   "mimetype": "text/x-python",
   "name": "python",
   "nbconvert_exporter": "python",
   "pygments_lexer": "ipython3",
   "version": "3.10.13"
  }
 },
 "nbformat": 4,
 "nbformat_minor": 2
}
