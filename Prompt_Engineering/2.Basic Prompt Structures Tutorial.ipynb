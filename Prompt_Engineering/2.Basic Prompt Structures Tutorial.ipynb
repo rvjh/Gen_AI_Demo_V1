{
 "cells": [
  {
   "cell_type": "markdown",
   "metadata": {},
   "source": [
    "#### Basic Prompt Structures Tutorial"
   ]
  },
  {
   "cell_type": "markdown",
   "metadata": {},
   "source": [
    "This tutorial focuses on two fundamental types of prompt structures:\n",
    "\n",
    "Single-turn prompts\n",
    "Multi-turn prompts (conversations)\n",
    "\n",
    "We'll use Groq provided lemma-7b-it model and LangChain to demonstrate these concepts."
   ]
  },
  {
   "cell_type": "code",
   "execution_count": 4,
   "metadata": {},
   "outputs": [
    {
     "data": {
      "text/plain": [
       "ChatGroq(client=<groq.resources.chat.completions.Completions object at 0x7f0452bbfca0>, async_client=<groq.resources.chat.completions.AsyncCompletions object at 0x7f04529e0850>, model_name='gemma-7b-it', groq_api_key=SecretStr('**********'))"
      ]
     },
     "execution_count": 4,
     "metadata": {},
     "output_type": "execute_result"
    }
   ],
   "source": [
    "from langchain_groq import ChatGroq\n",
    "from langchain.prompts import PromptTemplate\n",
    "from langchain.chains import ConversationChain\n",
    "from langchain.memory import ConversationBufferMemory\n",
    "\n",
    "groq_api_key = \"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\"\n",
    "\n",
    "llm = ChatGroq(\n",
    "     groq_api_key = groq_api_key,\n",
    "     model = \"gemma-7b-it\"\n",
    ")\n",
    "\n",
    "llm"
   ]
  },
  {
   "cell_type": "markdown",
   "metadata": {},
   "source": [
    "Key Components\n",
    "\n",
    "1. Single-turn Prompts: One-shot interactions with the language model.\n",
    "2. Multi-turn Prompts: Series of interactions that maintain context.\n",
    "3. Prompt Templates: Reusable structures for consistent prompting.\n",
    "4. Conversation Chains: Maintaining context across multiple interactions."
   ]
  },
  {
   "cell_type": "markdown",
   "metadata": {},
   "source": [
    "1. Single-turn Prompts\n",
    "\n",
    "Single-turn prompts are one-shot interactions with the language model. They consist of a single input (prompt) and generate a single output (response)."
   ]
  },
  {
   "cell_type": "code",
   "execution_count": 2,
   "metadata": {},
   "outputs": [
    {
     "name": "stdout",
     "output_type": "stream",
     "text": [
      "* **Red**\n",
      "* **Yellow**\n",
      "* **Blue**\n",
      "\n",
      "These three colors are considered the primary colors because they can be used to create all other colors through mixing.\n"
     ]
    }
   ],
   "source": [
    "single_turn_prompt = \"What are the three primary colors?\"\n",
    "print(llm.invoke(single_turn_prompt).content)"
   ]
  },
  {
   "cell_type": "code",
   "execution_count": 3,
   "metadata": {},
   "outputs": [
    {
     "name": "stdout",
     "output_type": "stream",
     "text": [
      "**Color theory** is the body of practical guidance to color mixing, color relationships, and the visual effects of a specific color or combination of colors. It explores the relationships between colors and how they affect human perception.\n",
      "\n",
      "**Three main components of color theory are:**\n",
      "\n",
      "**1. Hue**\n",
      "- The actual color, like red, orange, yellow, green, blue, indigo, and violet.\n",
      "- Represents the pigment or dye used to create the color.\n",
      "\n",
      "\n",
      "**2. Value**\n",
      "- The lightness or darkness of a color.\n",
      "- Determined by the amount of black or white mixed with the hue.\n",
      "\n",
      "\n",
      "**3. Saturation/Chroma**\n",
      "- The intensity or purity of a color.\n",
      "- Represents the concentration of pigment or dye in the color.\n"
     ]
    }
   ],
   "source": [
    "structured_prompt = PromptTemplate(\n",
    "    input_variables=[\"topic\"],\n",
    "    template=\"Provide a brief explanation of {topic} and list its three main components.\"\n",
    ")\n",
    "\n",
    "chain = structured_prompt | llm\n",
    "print(chain.invoke({\"topic\": \"color theory\"}).content)"
   ]
  },
  {
   "cell_type": "markdown",
   "metadata": {},
   "source": [
    "2. Multi-turn Prompts (Conversations)\n",
    "\n",
    "Multi-turn prompts involve a series of interactions with the language model, allowing for more complex and context-aware conversations."
   ]
  },
  {
   "cell_type": "code",
   "execution_count": 5,
   "metadata": {},
   "outputs": [
    {
     "name": "stderr",
     "output_type": "stream",
     "text": [
      "/tmp/ipykernel_2022844/4194631287.py:1: LangChainDeprecationWarning: The class `ConversationChain` was deprecated in LangChain 0.2.7 and will be removed in 1.0. Use RunnableWithMessageHistory: https://python.langchain.com/v0.2/api_reference/core/runnables/langchain_core.runnables.history.RunnableWithMessageHistory.html instead.\n",
      "  conversation = ConversationChain(\n"
     ]
    },
    {
     "name": "stdout",
     "output_type": "stream",
     "text": [
      "\n",
      "\n",
      "\u001b[1m> Entering new ConversationChain chain...\u001b[0m\n",
      "Prompt after formatting:\n",
      "\u001b[32;1m\u001b[1;3mThe following is a friendly conversation between a human and an AI. The AI is talkative and provides lots of specific details from its context. If the AI does not know the answer to a question, it truthfully says it does not know.\n",
      "\n",
      "Current conversation:\n",
      "\n",
      "Human: Hi, I'm learning about space. Can you tell me about planets?\n",
      "AI:\u001b[0m\n",
      "\n",
      "\u001b[1m> Finished chain.\u001b[0m\n",
      "Certainly! Planets are fascinating celestial objects that orbit around a star, forming the building blocks of a solar system. There are eight recognized planets in our solar system, each with its own unique characteristics.\n",
      "\n",
      "**Here's a brief overview of the planets in our solar system:**\n",
      "\n",
      "**1. Mercury:**\n",
      "- Smallest planet in our solar system\n",
      "- Covered in craters and volcanic plains\n",
      "- Very hot and rocky surface\n",
      "\n",
      "**2. Venus:**\n",
      "- Known for its thick, sulfuric acid atmosphere\n",
      "- Surface temperatures can reach 460°C\n",
      "- Volcanic activity is common\n",
      "\n",
      "**3. Earth:**\n",
      "- The only planet with liquid water on its surface\n",
      "- Habitable zone and home to life\n",
      "- Diverse ecosystems and a thin atmosphere\n",
      "\n",
      "**4. Mars:**\n",
      "- Red planet due to iron oxide dust\n",
      "- Dry and dusty surface with evidence of past liquid water\n",
      "- Thin atmosphere and frigid temperatures\n",
      "\n",
      "**5. Jupiter:**\n",
      "- Gas giant with swirling storms and banded structure\n",
      "- Largest planet in our solar system\n",
      "- Known for its immense gravitational pull and plethora of moons\n",
      "\n",
      "**6. Saturn:**\n",
      "- Another gas giant with a prominent ring system\n",
      "- Known for its beautiful, icy moons like Titan and Rhea\n",
      "- More gentle gravitational pull than Jupiter\n",
      "\n",
      "**7. Uranus:**\n",
      "- Ice giant with a methane-rich atmosphere\n",
      "- Known for its unusual axial tilt, which causes extreme seasons\n",
      "- Many moons, including the intriguing Triton\n",
      "\n",
      "**8. Neptune:**\n",
      "- Coldest planet in our solar system\n",
      "- Atmosphere composed primarily of hydrogen, helium, and methane\n",
      "- Known for its turbulent weather patterns and strong winds\n",
      "\n",
      "These are just a few of the amazing planets in our solar system. Each one has its own unique story to tell, and I can provide you with more detailed information about any of them if you're interested. What specific planet would you like to learn more about?\n",
      "\n",
      "\n",
      "\u001b[1m> Entering new ConversationChain chain...\u001b[0m\n",
      "Prompt after formatting:\n",
      "\u001b[32;1m\u001b[1;3mThe following is a friendly conversation between a human and an AI. The AI is talkative and provides lots of specific details from its context. If the AI does not know the answer to a question, it truthfully says it does not know.\n",
      "\n",
      "Current conversation:\n",
      "Human: Hi, I'm learning about space. Can you tell me about planets?\n",
      "AI: Certainly! Planets are fascinating celestial objects that orbit around a star, forming the building blocks of a solar system. There are eight recognized planets in our solar system, each with its own unique characteristics.\n",
      "\n",
      "**Here's a brief overview of the planets in our solar system:**\n",
      "\n",
      "**1. Mercury:**\n",
      "- Smallest planet in our solar system\n",
      "- Covered in craters and volcanic plains\n",
      "- Very hot and rocky surface\n",
      "\n",
      "**2. Venus:**\n",
      "- Known for its thick, sulfuric acid atmosphere\n",
      "- Surface temperatures can reach 460°C\n",
      "- Volcanic activity is common\n",
      "\n",
      "**3. Earth:**\n",
      "- The only planet with liquid water on its surface\n",
      "- Habitable zone and home to life\n",
      "- Diverse ecosystems and a thin atmosphere\n",
      "\n",
      "**4. Mars:**\n",
      "- Red planet due to iron oxide dust\n",
      "- Dry and dusty surface with evidence of past liquid water\n",
      "- Thin atmosphere and frigid temperatures\n",
      "\n",
      "**5. Jupiter:**\n",
      "- Gas giant with swirling storms and banded structure\n",
      "- Largest planet in our solar system\n",
      "- Known for its immense gravitational pull and plethora of moons\n",
      "\n",
      "**6. Saturn:**\n",
      "- Another gas giant with a prominent ring system\n",
      "- Known for its beautiful, icy moons like Titan and Rhea\n",
      "- More gentle gravitational pull than Jupiter\n",
      "\n",
      "**7. Uranus:**\n",
      "- Ice giant with a methane-rich atmosphere\n",
      "- Known for its unusual axial tilt, which causes extreme seasons\n",
      "- Many moons, including the intriguing Triton\n",
      "\n",
      "**8. Neptune:**\n",
      "- Coldest planet in our solar system\n",
      "- Atmosphere composed primarily of hydrogen, helium, and methane\n",
      "- Known for its turbulent weather patterns and strong winds\n",
      "\n",
      "These are just a few of the amazing planets in our solar system. Each one has its own unique story to tell, and I can provide you with more detailed information about any of them if you're interested. What specific planet would you like to learn more about?\n",
      "Human: What's the largest planet in our solar system?\n",
      "AI:\u001b[0m\n",
      "\n",
      "\u001b[1m> Finished chain.\u001b[0m\n",
      "The AI's response to the question \"What's the largest planet in our solar system?\" is:\n",
      "\n",
      "\"Jupiter is the largest planet in our solar system. Known for its immense gravitational pull and plethora of moons, Jupiter is a gas giant with a swirling storm structure and banded appearance.\"\n",
      "\n",
      "\n",
      "\u001b[1m> Entering new ConversationChain chain...\u001b[0m\n",
      "Prompt after formatting:\n",
      "\u001b[32;1m\u001b[1;3mThe following is a friendly conversation between a human and an AI. The AI is talkative and provides lots of specific details from its context. If the AI does not know the answer to a question, it truthfully says it does not know.\n",
      "\n",
      "Current conversation:\n",
      "Human: Hi, I'm learning about space. Can you tell me about planets?\n",
      "AI: Certainly! Planets are fascinating celestial objects that orbit around a star, forming the building blocks of a solar system. There are eight recognized planets in our solar system, each with its own unique characteristics.\n",
      "\n",
      "**Here's a brief overview of the planets in our solar system:**\n",
      "\n",
      "**1. Mercury:**\n",
      "- Smallest planet in our solar system\n",
      "- Covered in craters and volcanic plains\n",
      "- Very hot and rocky surface\n",
      "\n",
      "**2. Venus:**\n",
      "- Known for its thick, sulfuric acid atmosphere\n",
      "- Surface temperatures can reach 460°C\n",
      "- Volcanic activity is common\n",
      "\n",
      "**3. Earth:**\n",
      "- The only planet with liquid water on its surface\n",
      "- Habitable zone and home to life\n",
      "- Diverse ecosystems and a thin atmosphere\n",
      "\n",
      "**4. Mars:**\n",
      "- Red planet due to iron oxide dust\n",
      "- Dry and dusty surface with evidence of past liquid water\n",
      "- Thin atmosphere and frigid temperatures\n",
      "\n",
      "**5. Jupiter:**\n",
      "- Gas giant with swirling storms and banded structure\n",
      "- Largest planet in our solar system\n",
      "- Known for its immense gravitational pull and plethora of moons\n",
      "\n",
      "**6. Saturn:**\n",
      "- Another gas giant with a prominent ring system\n",
      "- Known for its beautiful, icy moons like Titan and Rhea\n",
      "- More gentle gravitational pull than Jupiter\n",
      "\n",
      "**7. Uranus:**\n",
      "- Ice giant with a methane-rich atmosphere\n",
      "- Known for its unusual axial tilt, which causes extreme seasons\n",
      "- Many moons, including the intriguing Triton\n",
      "\n",
      "**8. Neptune:**\n",
      "- Coldest planet in our solar system\n",
      "- Atmosphere composed primarily of hydrogen, helium, and methane\n",
      "- Known for its turbulent weather patterns and strong winds\n",
      "\n",
      "These are just a few of the amazing planets in our solar system. Each one has its own unique story to tell, and I can provide you with more detailed information about any of them if you're interested. What specific planet would you like to learn more about?\n",
      "Human: What's the largest planet in our solar system?\n",
      "AI: The AI's response to the question \"What's the largest planet in our solar system?\" is:\n",
      "\n",
      "\"Jupiter is the largest planet in our solar system. Known for its immense gravitational pull and plethora of moons, Jupiter is a gas giant with a swirling storm structure and banded appearance.\"\n",
      "Human: How does its size compare to Earth?\n",
      "AI:\u001b[0m\n",
      "\n",
      "\u001b[1m> Finished chain.\u001b[0m\n",
      "The provided text does not contain any information regarding how Jupiter's size compares to Earth, so I am unable to answer this question from the given context.\n"
     ]
    }
   ],
   "source": [
    "conversation = ConversationChain(\n",
    "    llm=llm, \n",
    "    verbose=True,\n",
    "    memory=ConversationBufferMemory()\n",
    ")\n",
    "\n",
    "print(conversation.predict(input=\"Hi, I'm learning about space. Can you tell me about planets?\"))\n",
    "print(conversation.predict(input=\"What's the largest planet in our solar system?\"))\n",
    "print(conversation.predict(input=\"How does its size compare to Earth?\"))"
   ]
  },
  {
   "cell_type": "code",
   "execution_count": 6,
   "metadata": {},
   "outputs": [
    {
     "name": "stdout",
     "output_type": "stream",
     "text": [
      "Single-turn responses:\n",
      "Q: What is the capital of France?\n",
      "A: The capital of France is **Paris**. It has been the capital since the Middle Ages.\n",
      "\n",
      "Q: What is its population?\n",
      "A: I am unable to access real-time information or specific data regarding populations. For the most up-to-date and accurate information, please refer to reliable sources such as government agencies or official statistics websites.\n",
      "\n",
      "Q: What is the city's most famous landmark?\n",
      "A: The answer depends on which city you're referring to. Please provide the name of the city you're interested in, and I can provide information about its most famous landmark.\n",
      "\n",
      "Multi-turn responses:\n",
      "Q: What is the capital of France?\n",
      "A: AI: The capital of France is Paris. It's a vibrant city known for its rich history, stunning architecture, and world-renowned cuisine.\n",
      "\n",
      "Q: What is its population?\n",
      "A: The provided text does not include information regarding the population of Paris, so the AI cannot provide an answer to the question.\n",
      "\n",
      "Q: What is the city's most famous landmark?\n",
      "A: The provided text does not include information regarding the most famous landmark in Paris, so the AI cannot provide an answer to the question.\n",
      "\n"
     ]
    }
   ],
   "source": [
    "## Let's compare how single-turn and multi-turn prompts handle a series of related questions:\n",
    "\n",
    "\n",
    "# Single-turn prompts\n",
    "prompts = [\n",
    "    \"What is the capital of France?\",\n",
    "    \"What is its population?\",\n",
    "    \"What is the city's most famous landmark?\"\n",
    "]\n",
    "\n",
    "print(\"Single-turn responses:\")\n",
    "for prompt in prompts:\n",
    "    print(f\"Q: {prompt}\")\n",
    "    print(f\"A: {llm.invoke(prompt).content}\\n\")\n",
    "\n",
    "# Multi-turn prompts\n",
    "print(\"Multi-turn responses:\")\n",
    "conversation = ConversationChain(llm=llm, memory=ConversationBufferMemory())\n",
    "for prompt in prompts:\n",
    "    print(f\"Q: {prompt}\")\n",
    "    print(f\"A: {conversation.predict(input=prompt)}\\n\")"
   ]
  },
  {
   "cell_type": "markdown",
   "metadata": {},
   "source": [
    "Conclusion\n",
    "\n",
    "This tutorial has introduced you to the basics of single-turn and multi-turn prompt structures. We've seen how:\n",
    "\n",
    "1. Single-turn prompts are useful for quick, isolated queries.\n",
    "2. Multi-turn prompts maintain context across a conversation, allowing for more complex interactions.\n",
    "3. PromptTemplates can be used to create structured, reusable prompts.\n",
    "4. Conversation chains in LangChain help manage context in multi-turn interactions.\n",
    "\n",
    "Understanding these different prompt structures allows you to choose the most appropriate approach for various tasks and create more effective interactions with AI language models."
   ]
  },
  {
   "cell_type": "code",
   "execution_count": null,
   "metadata": {},
   "outputs": [],
   "source": []
  },
  {
   "cell_type": "code",
   "execution_count": null,
   "metadata": {},
   "outputs": [],
   "source": []
  },
  {
   "cell_type": "code",
   "execution_count": null,
   "metadata": {},
   "outputs": [],
   "source": []
  }
 ],
 "metadata": {
  "kernelspec": {
   "display_name": "AI_inv",
   "language": "python",
   "name": "python3"
  },
  "language_info": {
   "codemirror_mode": {
    "name": "ipython",
    "version": 3
   },
   "file_extension": ".py",
   "mimetype": "text/x-python",
   "name": "python",
   "nbconvert_exporter": "python",
   "pygments_lexer": "ipython3",
   "version": "3.10.13"
  }
 },
 "nbformat": 4,
 "nbformat_minor": 2
}
